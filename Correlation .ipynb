{
 "cells": [
  {
   "cell_type": "code",
   "execution_count": null,
   "id": "8935f94d",
   "metadata": {},
   "outputs": [],
   "source": [
    "import numpy as np\n",
    "import pandas as pd\n",
    "import matplotlib.pyplot as plt\n",
    "import yfinance as yf\n",
    "import seaborn as sns"
   ]
  },
  {
   "cell_type": "code",
   "execution_count": null,
   "id": "37d52a45",
   "metadata": {},
   "outputs": [],
   "source": [
    "tickers = ['BTC-USD', 'ETH-USD', 'BNB-USD', 'SOL-USD','XRP-USD', 'DOGE-USD', 'ADA-USD', 'AVAX-USD',\n",
    "           'LTC-USD', 'TON-USD', 'DOT-USD', 'LINK-USD','BCH-USD', 'TRX-USD', 'MATIC-USD']\n",
    "df = yf.download(tickers, start='2021-03-28')['Adj Close']\n",
    "df.index.name = 'Date'\n",
    "df"
   ]
  },
  {
   "cell_type": "code",
   "execution_count": null,
   "id": "e79fdae9",
   "metadata": {},
   "outputs": [],
   "source": [
    "def compute_returns(s):\n",
    "    if isinstance(s, pd.DataFrame):\n",
    "        return s.aggregate(compute_returns)\n",
    "    elif isinstance(s, pd.Series):\n",
    "        s = s / s.shift(1) - 1\n",
    "        return s\n",
    "\n",
    "    else:\n",
    "        raise TypeError(\"Expected pd.DataFrame or pd.Series\")"
   ]
  },
  {
   "cell_type": "code",
   "execution_count": null,
   "id": "7505136c",
   "metadata": {},
   "outputs": [],
   "source": [
    "daily_rate = compute_returns(df)\n",
    "daily_rate.dropna(inplace=True)\n",
    "\n",
    "daily_rate"
   ]
  },
  {
   "cell_type": "code",
   "execution_count": null,
   "id": "e1a2a4b0",
   "metadata": {},
   "outputs": [],
   "source": [
    "corr_rate = daily_rate.corr()\n",
    "corr_rate=corr_rate.round(2)\n",
    "mask = np.tril(np.ones(corr_rate.shape)).astype(np.bool)\n",
    "lower_triangle = corr_rate.where(mask)\n",
    "\n",
    "lower_triangle\n"
   ]
  },
  {
   "cell_type": "code",
   "execution_count": null,
   "id": "2a22a942",
   "metadata": {},
   "outputs": [],
   "source": [
    "plt.figure(figsize=(12, 8))\n",
    "\n",
    "sns.heatmap(lower_triangle, annot=True, cmap=\"BuGn\")\n"
   ]
  },
  {
   "cell_type": "code",
   "execution_count": null,
   "id": "4bc8ff2c",
   "metadata": {},
   "outputs": [],
   "source": []
  }
 ],
 "metadata": {
  "kernelspec": {
   "display_name": "Python 3 (ipykernel)",
   "language": "python",
   "name": "python3"
  },
  "language_info": {
   "codemirror_mode": {
    "name": "ipython",
    "version": 3
   },
   "file_extension": ".py",
   "mimetype": "text/x-python",
   "name": "python",
   "nbconvert_exporter": "python",
   "pygments_lexer": "ipython3",
   "version": "3.10.12"
  }
 },
 "nbformat": 4,
 "nbformat_minor": 5
}
